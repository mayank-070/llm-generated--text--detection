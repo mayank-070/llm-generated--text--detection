{
 "cells": [
  {
   "cell_type": "code",
   "execution_count": 1,
   "id": "e7968ea9",
   "metadata": {
    "_cell_guid": "b1076dfc-b9ad-4769-8c92-a6c4dae69d19",
    "_uuid": "8f2839f25d086af736a60e9eeb907d3b93b6e0e5",
    "execution": {
     "iopub.execute_input": "2024-01-06T07:51:02.102071Z",
     "iopub.status.busy": "2024-01-06T07:51:02.101768Z",
     "iopub.status.idle": "2024-01-06T07:51:03.387100Z",
     "shell.execute_reply": "2024-01-06T07:51:03.386216Z"
    },
    "papermill": {
     "duration": 1.297583,
     "end_time": "2024-01-06T07:51:03.390048",
     "exception": false,
     "start_time": "2024-01-06T07:51:02.092465",
     "status": "completed"
    },
    "tags": []
   },
   "outputs": [
    {
     "name": "stdout",
     "output_type": "stream",
     "text": [
      "/kaggle/input/internetdisabledpackage/tqdm-4.66.1-py3-none-any.whl\n",
      "/kaggle/input/internetdisabledpackage/joblib-1.3.2-py3-none-any.whl\n",
      "/kaggle/input/internetdisabledpackage/pandas-2.1.4-cp311-cp311-win_amd64.whl\n",
      "/kaggle/input/internetdisabledpackage/nltk-3.8.1-py3-none-any.whl\n",
      "/kaggle/input/internetdisabledpackage/regex-2023.12.25-cp311-cp311-win_amd64.whl\n",
      "/kaggle/input/internetdisabledpackage/kiwisolver-1.4.5-cp311-cp311-win_amd64.whl\n",
      "/kaggle/input/internetdisabledpackage/scipy-1.11.4-cp311-cp311-win_amd64.whl\n",
      "/kaggle/input/internetdisabledpackage/six-1.16.0-py2.py3-none-any.whl\n",
      "/kaggle/input/internetdisabledpackage/contourpy-1.2.0-cp311-cp311-win_amd64.whl\n",
      "/kaggle/input/internetdisabledpackage/cycler-0.12.1-py3-none-any.whl\n",
      "/kaggle/input/internetdisabledpackage/packaging-23.2-py3-none-any.whl\n",
      "/kaggle/input/internetdisabledpackage/pytz-2023.3.post1-py2.py3-none-any.whl\n",
      "/kaggle/input/internetdisabledpackage/pillow-10.2.0-cp311-cp311-win_amd64.whl\n",
      "/kaggle/input/internetdisabledpackage/python_dateutil-2.8.2-py2.py3-none-any.whl\n",
      "/kaggle/input/internetdisabledpackage/textblob-0.17.1-py2.py3-none-any.whl\n",
      "/kaggle/input/internetdisabledpackage/numpy-1.26.3-cp311-cp311-win_amd64.whl\n",
      "/kaggle/input/internetdisabledpackage/textstat-0.7.3-py3-none-any.whl\n",
      "/kaggle/input/internetdisabledpackage/colorama-0.4.6-py2.py3-none-any.whl\n",
      "/kaggle/input/internetdisabledpackage/pyparsing-3.1.1-py3-none-any.whl\n",
      "/kaggle/input/internetdisabledpackage/fonttools-4.47.0-cp311-cp311-win_amd64.whl\n",
      "/kaggle/input/internetdisabledpackage/click-8.1.7-py3-none-any.whl\n",
      "/kaggle/input/internetdisabledpackage/tzdata-2023.4-py2.py3-none-any.whl\n",
      "/kaggle/input/internetdisabledpackage/pyphen-0.14.0-py3-none-any.whl\n",
      "/kaggle/input/internetdisabledpackage/lexicalrichness-0.5.1/lexicalrichness-0.5.1/README.rst\n",
      "/kaggle/input/internetdisabledpackage/lexicalrichness-0.5.1/lexicalrichness-0.5.1/setup.cfg\n",
      "/kaggle/input/internetdisabledpackage/lexicalrichness-0.5.1/lexicalrichness-0.5.1/LICENSE\n",
      "/kaggle/input/internetdisabledpackage/lexicalrichness-0.5.1/lexicalrichness-0.5.1/MANIFEST.in\n",
      "/kaggle/input/internetdisabledpackage/lexicalrichness-0.5.1/lexicalrichness-0.5.1/PKG-INFO\n",
      "/kaggle/input/internetdisabledpackage/lexicalrichness-0.5.1/lexicalrichness-0.5.1/setup.py\n",
      "/kaggle/input/internetdisabledpackage/lexicalrichness-0.5.1/lexicalrichness-0.5.1/tests/__init__.py\n",
      "/kaggle/input/internetdisabledpackage/lexicalrichness-0.5.1/lexicalrichness-0.5.1/tests/test_lexicalrichness.py\n",
      "/kaggle/input/internetdisabledpackage/lexicalrichness-0.5.1/lexicalrichness-0.5.1/lexicalrichness.egg-info/dependency_links.txt\n",
      "/kaggle/input/internetdisabledpackage/lexicalrichness-0.5.1/lexicalrichness-0.5.1/lexicalrichness.egg-info/SOURCES.txt\n",
      "/kaggle/input/internetdisabledpackage/lexicalrichness-0.5.1/lexicalrichness-0.5.1/lexicalrichness.egg-info/requires.txt\n",
      "/kaggle/input/internetdisabledpackage/lexicalrichness-0.5.1/lexicalrichness-0.5.1/lexicalrichness.egg-info/top_level.txt\n",
      "/kaggle/input/internetdisabledpackage/lexicalrichness-0.5.1/lexicalrichness-0.5.1/lexicalrichness.egg-info/PKG-INFO\n",
      "/kaggle/input/internetdisabledpackage/lexicalrichness-0.5.1/lexicalrichness-0.5.1/docs/index.rst\n",
      "/kaggle/input/internetdisabledpackage/lexicalrichness-0.5.1/lexicalrichness-0.5.1/docs/conf.py\n",
      "/kaggle/input/internetdisabledpackage/lexicalrichness-0.5.1/lexicalrichness-0.5.1/docs/docstring_docs.rst\n",
      "/kaggle/input/internetdisabledpackage/lexicalrichness-0.5.1/lexicalrichness-0.5.1/docs/make.bat\n",
      "/kaggle/input/internetdisabledpackage/lexicalrichness-0.5.1/lexicalrichness-0.5.1/docs/README.rst\n",
      "/kaggle/input/internetdisabledpackage/lexicalrichness-0.5.1/lexicalrichness-0.5.1/docs/details.rst\n",
      "/kaggle/input/internetdisabledpackage/lexicalrichness-0.5.1/lexicalrichness-0.5.1/docs/Makefile\n",
      "/kaggle/input/internetdisabledpackage/lexicalrichness-0.5.1/lexicalrichness-0.5.1/docs/contributors.rst\n",
      "/kaggle/input/internetdisabledpackage/lexicalrichness-0.5.1/lexicalrichness-0.5.1/docs/usefullinks.rst\n",
      "/kaggle/input/internetdisabledpackage/lexicalrichness-0.5.1/lexicalrichness-0.5.1/docs/CONTRIBUTING.rst\n",
      "/kaggle/input/internetdisabledpackage/lexicalrichness-0.5.1/lexicalrichness-0.5.1/docs/images/vocd.png\n",
      "/kaggle/input/internetdisabledpackage/lexicalrichness-0.5.1/lexicalrichness-0.5.1/docs/images/boxplot_lex_nyt_cnn_npr_msnbc.png\n",
      "/kaggle/input/internetdisabledpackage/lexicalrichness-0.5.1/lexicalrichness-0.5.1/lexicalrichness/__init__.py\n",
      "/kaggle/input/internetdisabledpackage/lexicalrichness-0.5.1/lexicalrichness-0.5.1/lexicalrichness/lexicalrichness.py\n",
      "/kaggle/input/daigt-external-train-dataset/train_external_drcat_02.csv\n",
      "/kaggle/input/llm-detect-ai-generated-text/sample_submission.csv\n",
      "/kaggle/input/llm-detect-ai-generated-text/train_prompts.csv\n",
      "/kaggle/input/llm-detect-ai-generated-text/test_essays.csv\n",
      "/kaggle/input/llm-detect-ai-generated-text/train_essays.csv\n"
     ]
    }
   ],
   "source": [
    "# This Python 3 environment comes with many helpful analytics libraries installed\n",
    "# It is defined by the kaggle/python Docker image: https://github.com/kaggle/docker-python\n",
    "# For example, here's several helpful packages to load\n",
    "\n",
    "import numpy as np # linear algebra\n",
    "import pandas as pd # data processing, CSV file I/O (e.g. pd.read_csv)\n",
    "\n",
    "# Input data files are available in the read-only \"../input/\" directory\n",
    "# For example, running this (by clicking run or pressing Shift+Enter) will list all files under the input directory\n",
    "\n",
    "import os\n",
    "for dirname, _, filenames in os.walk('/kaggle/input'):\n",
    "    for filename in filenames:\n",
    "        print(os.path.join(dirname, filename))\n",
    "\n",
    "# You can write up to 20GB to the current directory (/kaggle/working/) that gets preserved as output when you create a version using \"Save & Run All\" \n",
    "# You can also write temporary files to /kaggle/temp/, but they won't be saved outside of the current session"
   ]
  },
  {
   "cell_type": "code",
   "execution_count": 2,
   "id": "ab649810",
   "metadata": {
    "execution": {
     "iopub.execute_input": "2024-01-06T07:51:03.407174Z",
     "iopub.status.busy": "2024-01-06T07:51:03.406776Z",
     "iopub.status.idle": "2024-01-06T07:51:03.537778Z",
     "shell.execute_reply": "2024-01-06T07:51:03.536848Z"
    },
    "papermill": {
     "duration": 0.141728,
     "end_time": "2024-01-06T07:51:03.539893",
     "exception": false,
     "start_time": "2024-01-06T07:51:03.398165",
     "status": "completed"
    },
    "tags": []
   },
   "outputs": [
    {
     "data": {
      "text/html": [
       "<div>\n",
       "<style scoped>\n",
       "    .dataframe tbody tr th:only-of-type {\n",
       "        vertical-align: middle;\n",
       "    }\n",
       "\n",
       "    .dataframe tbody tr th {\n",
       "        vertical-align: top;\n",
       "    }\n",
       "\n",
       "    .dataframe thead th {\n",
       "        text-align: right;\n",
       "    }\n",
       "</style>\n",
       "<table border=\"1\" class=\"dataframe\">\n",
       "  <thead>\n",
       "    <tr style=\"text-align: right;\">\n",
       "      <th></th>\n",
       "      <th>id</th>\n",
       "      <th>prompt_id</th>\n",
       "      <th>text</th>\n",
       "      <th>generated</th>\n",
       "    </tr>\n",
       "  </thead>\n",
       "  <tbody>\n",
       "    <tr>\n",
       "      <th>0</th>\n",
       "      <td>0059830c</td>\n",
       "      <td>0</td>\n",
       "      <td>Cars. Cars have been around since they became ...</td>\n",
       "      <td>0</td>\n",
       "    </tr>\n",
       "    <tr>\n",
       "      <th>1</th>\n",
       "      <td>005db917</td>\n",
       "      <td>0</td>\n",
       "      <td>Transportation is a large necessity in most co...</td>\n",
       "      <td>0</td>\n",
       "    </tr>\n",
       "    <tr>\n",
       "      <th>2</th>\n",
       "      <td>008f63e3</td>\n",
       "      <td>0</td>\n",
       "      <td>\"America's love affair with it's vehicles seem...</td>\n",
       "      <td>0</td>\n",
       "    </tr>\n",
       "    <tr>\n",
       "      <th>3</th>\n",
       "      <td>00940276</td>\n",
       "      <td>0</td>\n",
       "      <td>How often do you ride in a car? Do you drive a...</td>\n",
       "      <td>0</td>\n",
       "    </tr>\n",
       "    <tr>\n",
       "      <th>4</th>\n",
       "      <td>00c39458</td>\n",
       "      <td>0</td>\n",
       "      <td>Cars are a wonderful thing. They are perhaps o...</td>\n",
       "      <td>0</td>\n",
       "    </tr>\n",
       "  </tbody>\n",
       "</table>\n",
       "</div>"
      ],
      "text/plain": [
       "         id  prompt_id                                               text  \\\n",
       "0  0059830c          0  Cars. Cars have been around since they became ...   \n",
       "1  005db917          0  Transportation is a large necessity in most co...   \n",
       "2  008f63e3          0  \"America's love affair with it's vehicles seem...   \n",
       "3  00940276          0  How often do you ride in a car? Do you drive a...   \n",
       "4  00c39458          0  Cars are a wonderful thing. They are perhaps o...   \n",
       "\n",
       "   generated  \n",
       "0          0  \n",
       "1          0  \n",
       "2          0  \n",
       "3          0  \n",
       "4          0  "
      ]
     },
     "execution_count": 2,
     "metadata": {},
     "output_type": "execute_result"
    }
   ],
   "source": [
    "test_data = pd.read_csv('/kaggle/input/llm-detect-ai-generated-text/test_essays.csv')\n",
    "train_data = pd.read_csv('/kaggle/input/llm-detect-ai-generated-text/train_essays.csv')\n",
    "train_prompts = pd.read_csv('/kaggle/input/llm-detect-ai-generated-text/train_prompts.csv')\n",
    "train_data.head()"
   ]
  },
  {
   "cell_type": "markdown",
   "id": "e444a1fc",
   "metadata": {
    "papermill": {
     "duration": 0.007784,
     "end_time": "2024-01-06T07:51:03.556036",
     "exception": false,
     "start_time": "2024-01-06T07:51:03.548252",
     "status": "completed"
    },
    "tags": []
   },
   "source": []
  },
  {
   "cell_type": "code",
   "execution_count": 3,
   "id": "5fbcbccb",
   "metadata": {
    "execution": {
     "iopub.execute_input": "2024-01-06T07:51:03.572680Z",
     "iopub.status.busy": "2024-01-06T07:51:03.572412Z",
     "iopub.status.idle": "2024-01-06T07:51:18.427230Z",
     "shell.execute_reply": "2024-01-06T07:51:18.426259Z"
    },
    "papermill": {
     "duration": 14.865946,
     "end_time": "2024-01-06T07:51:18.429732",
     "exception": false,
     "start_time": "2024-01-06T07:51:03.563786",
     "status": "completed"
    },
    "tags": []
   },
   "outputs": [
    {
     "name": "stdout",
     "output_type": "stream",
     "text": [
      "Looking in links: /kaggle/input/internetdisabledpackage\r\n",
      "Processing /kaggle/input/internetdisabledpackage/textstat-0.7.3-py3-none-any.whl\r\n",
      "Processing /kaggle/input/internetdisabledpackage/pyphen-0.14.0-py3-none-any.whl (from textstat)\r\n",
      "Installing collected packages: pyphen, textstat\r\n",
      "Successfully installed pyphen-0.14.0 textstat-0.7.3\r\n"
     ]
    }
   ],
   "source": [
    "!pip install textstat --no-index --find-links /kaggle/input/internetdisabledpackage"
   ]
  },
  {
   "cell_type": "markdown",
   "id": "743b4c7e",
   "metadata": {},
   "source": [
    "since in kaggle pip don,t work in submission so commented the lexical richness feature which measures text diversity "
   ]
  },
  {
   "cell_type": "code",
   "execution_count": 4,
   "id": "a49a8fa3",
   "metadata": {
    "execution": {
     "iopub.execute_input": "2024-01-06T07:51:18.448214Z",
     "iopub.status.busy": "2024-01-06T07:51:18.447879Z",
     "iopub.status.idle": "2024-01-06T07:51:18.452351Z",
     "shell.execute_reply": "2024-01-06T07:51:18.451616Z"
    },
    "papermill": {
     "duration": 0.015719,
     "end_time": "2024-01-06T07:51:18.454124",
     "exception": false,
     "start_time": "2024-01-06T07:51:18.438405",
     "status": "completed"
    },
    "tags": []
   },
   "outputs": [],
   "source": [
    "#!pip install lexicalrichness --no-index --find-links /kaggle/input/internetdisabledpackage/lexicalrichness-0.5.1"
   ]
  },
  {
   "cell_type": "code",
   "execution_count": 5,
   "id": "620b34d6",
   "metadata": {
    "execution": {
     "iopub.execute_input": "2024-01-06T07:51:18.471685Z",
     "iopub.status.busy": "2024-01-06T07:51:18.471413Z",
     "iopub.status.idle": "2024-01-06T07:51:38.397578Z",
     "shell.execute_reply": "2024-01-06T07:51:38.396679Z"
    },
    "papermill": {
     "duration": 19.937714,
     "end_time": "2024-01-06T07:51:38.400062",
     "exception": false,
     "start_time": "2024-01-06T07:51:18.462348",
     "status": "completed"
    },
    "tags": []
   },
   "outputs": [
    {
     "name": "stderr",
     "output_type": "stream",
     "text": [
      "/opt/conda/lib/python3.10/site-packages/scipy/__init__.py:146: UserWarning: A NumPy version >=1.16.5 and <1.23.0 is required for this version of SciPy (detected version 1.24.3\n",
      "  warnings.warn(f\"A NumPy version >={np_minversion} and <{np_maxversion}\"\n"
     ]
    }
   ],
   "source": [
    "import tensorflow as tf\n",
    "import nltk\n",
    "from collections import Counter\n",
    "from textblob import TextBlob\n",
    "#from lexicalrichness import LexicalRichness\n",
    "from tensorflow.keras import regularizers\n",
    "import matplotlib.pyplot as plt\n",
    "\n",
    "\n"
   ]
  },
  {
   "cell_type": "code",
   "execution_count": 6,
   "id": "dbc0c5b2",
   "metadata": {
    "execution": {
     "iopub.execute_input": "2024-01-06T07:51:38.419578Z",
     "iopub.status.busy": "2024-01-06T07:51:38.419004Z",
     "iopub.status.idle": "2024-01-06T07:52:09.364205Z",
     "shell.execute_reply": "2024-01-06T07:52:09.363246Z"
    },
    "papermill": {
     "duration": 30.957578,
     "end_time": "2024-01-06T07:52:09.366814",
     "exception": false,
     "start_time": "2024-01-06T07:51:38.409236",
     "status": "completed"
    },
    "tags": []
   },
   "outputs": [],
   "source": [
    "# external dataset for llm generated detection as kaggle train data is high imbalanced\n",
    "daigt_data= pd.read_csv(\"/kaggle/input/daigt-external-train-dataset/train_external_drcat_02.csv\",low_memory =False)\n",
    "\n",
    "    "
   ]
  },
  {
   "cell_type": "code",
   "execution_count": 7,
   "id": "143a2ea5",
   "metadata": {
    "execution": {
     "iopub.execute_input": "2024-01-06T07:52:09.388057Z",
     "iopub.status.busy": "2024-01-06T07:52:09.387462Z",
     "iopub.status.idle": "2024-01-06T07:52:09.401225Z",
     "shell.execute_reply": "2024-01-06T07:52:09.400231Z"
    },
    "papermill": {
     "duration": 0.026836,
     "end_time": "2024-01-06T07:52:09.403609",
     "exception": false,
     "start_time": "2024-01-06T07:52:09.376773",
     "status": "completed"
    },
    "tags": []
   },
   "outputs": [
    {
     "data": {
      "text/html": [
       "<div>\n",
       "<style scoped>\n",
       "    .dataframe tbody tr th:only-of-type {\n",
       "        vertical-align: middle;\n",
       "    }\n",
       "\n",
       "    .dataframe tbody tr th {\n",
       "        vertical-align: top;\n",
       "    }\n",
       "\n",
       "    .dataframe thead th {\n",
       "        text-align: right;\n",
       "    }\n",
       "</style>\n",
       "<table border=\"1\" class=\"dataframe\">\n",
       "  <thead>\n",
       "    <tr style=\"text-align: right;\">\n",
       "      <th></th>\n",
       "      <th>essay_id</th>\n",
       "      <th>text</th>\n",
       "      <th>label</th>\n",
       "      <th>source</th>\n",
       "      <th>prompt</th>\n",
       "    </tr>\n",
       "  </thead>\n",
       "  <tbody>\n",
       "    <tr>\n",
       "      <th>0</th>\n",
       "      <td>sakibsh-llm-0</td>\n",
       "      <td>I just got back from your class, so I decided ...</td>\n",
       "      <td>0.0</td>\n",
       "      <td>sakibsh-llm-human-1</td>\n",
       "      <td>NaN</td>\n",
       "    </tr>\n",
       "    <tr>\n",
       "      <th>1</th>\n",
       "      <td>sakibsh-llm-1</td>\n",
       "      <td>It is 9:35 and I am beginning my stream of con...</td>\n",
       "      <td>0.0</td>\n",
       "      <td>sakibsh-llm-human-1</td>\n",
       "      <td>NaN</td>\n",
       "    </tr>\n",
       "    <tr>\n",
       "      <th>2</th>\n",
       "      <td>sakibsh-llm-2</td>\n",
       "      <td>Not only was the server down but it has taken ...</td>\n",
       "      <td>0.0</td>\n",
       "      <td>sakibsh-llm-human-1</td>\n",
       "      <td>NaN</td>\n",
       "    </tr>\n",
       "    <tr>\n",
       "      <th>3</th>\n",
       "      <td>sakibsh-llm-3</td>\n",
       "      <td>I am not exactly sure how this is supposed to ...</td>\n",
       "      <td>0.0</td>\n",
       "      <td>sakibsh-llm-human-1</td>\n",
       "      <td>NaN</td>\n",
       "    </tr>\n",
       "    <tr>\n",
       "      <th>4</th>\n",
       "      <td>sakibsh-llm-4</td>\n",
       "      <td>Well, here I am on Friday, September something...</td>\n",
       "      <td>0.0</td>\n",
       "      <td>sakibsh-llm-human-1</td>\n",
       "      <td>NaN</td>\n",
       "    </tr>\n",
       "  </tbody>\n",
       "</table>\n",
       "</div>"
      ],
      "text/plain": [
       "        essay_id                                               text  label  \\\n",
       "0  sakibsh-llm-0  I just got back from your class, so I decided ...    0.0   \n",
       "1  sakibsh-llm-1  It is 9:35 and I am beginning my stream of con...    0.0   \n",
       "2  sakibsh-llm-2  Not only was the server down but it has taken ...    0.0   \n",
       "3  sakibsh-llm-3  I am not exactly sure how this is supposed to ...    0.0   \n",
       "4  sakibsh-llm-4  Well, here I am on Friday, September something...    0.0   \n",
       "\n",
       "                source prompt  \n",
       "0  sakibsh-llm-human-1    NaN  \n",
       "1  sakibsh-llm-human-1    NaN  \n",
       "2  sakibsh-llm-human-1    NaN  \n",
       "3  sakibsh-llm-human-1    NaN  \n",
       "4  sakibsh-llm-human-1    NaN  "
      ]
     },
     "execution_count": 7,
     "metadata": {},
     "output_type": "execute_result"
    }
   ],
   "source": [
    "daigt_data.head()"
   ]
  },
  {
   "cell_type": "code",
   "execution_count": 8,
   "id": "e1d21b81",
   "metadata": {
    "execution": {
     "iopub.execute_input": "2024-01-06T07:52:09.424646Z",
     "iopub.status.busy": "2024-01-06T07:52:09.424340Z",
     "iopub.status.idle": "2024-01-06T07:52:09.450156Z",
     "shell.execute_reply": "2024-01-06T07:52:09.449484Z"
    },
    "papermill": {
     "duration": 0.038486,
     "end_time": "2024-01-06T07:52:09.452140",
     "exception": false,
     "start_time": "2024-01-06T07:52:09.413654",
     "status": "completed"
    },
    "tags": []
   },
   "outputs": [],
   "source": [
    "# extracting columns of text and label from train_data and external dataset\n",
    "df1 = train_data.drop(['id','prompt_id'],axis =1)\n",
    "daigt_data.rename(columns = {'label':'generated'}, inplace = True)\n",
    "df2 = daigt_data.drop(['essay_id','source','prompt'],axis=1)\n"
   ]
  },
  {
   "cell_type": "code",
   "execution_count": 9,
   "id": "1d951cd9",
   "metadata": {
    "execution": {
     "iopub.execute_input": "2024-01-06T07:52:09.471426Z",
     "iopub.status.busy": "2024-01-06T07:52:09.471141Z",
     "iopub.status.idle": "2024-01-06T07:52:09.508646Z",
     "shell.execute_reply": "2024-01-06T07:52:09.507689Z"
    },
    "papermill": {
     "duration": 0.049691,
     "end_time": "2024-01-06T07:52:09.510997",
     "exception": false,
     "start_time": "2024-01-06T07:52:09.461306",
     "status": "completed"
    },
    "tags": []
   },
   "outputs": [],
   "source": [
    "# concatinating data and shuffling the data using sample\n",
    "train = pd.concat([df1,df2],ignore_index=True)\n",
    "train =train.sample(n= len(train))\n"
   ]
  },
  {
   "cell_type": "code",
   "execution_count": 10,
   "id": "8d33af28",
   "metadata": {
    "execution": {
     "iopub.execute_input": "2024-01-06T07:52:09.530856Z",
     "iopub.status.busy": "2024-01-06T07:52:09.530544Z",
     "iopub.status.idle": "2024-01-06T07:52:09.540057Z",
     "shell.execute_reply": "2024-01-06T07:52:09.539166Z"
    },
    "papermill": {
     "duration": 0.022058,
     "end_time": "2024-01-06T07:52:09.542384",
     "exception": false,
     "start_time": "2024-01-06T07:52:09.520326",
     "status": "completed"
    },
    "tags": []
   },
   "outputs": [
    {
     "data": {
      "text/html": [
       "<div>\n",
       "<style scoped>\n",
       "    .dataframe tbody tr th:only-of-type {\n",
       "        vertical-align: middle;\n",
       "    }\n",
       "\n",
       "    .dataframe tbody tr th {\n",
       "        vertical-align: top;\n",
       "    }\n",
       "\n",
       "    .dataframe thead th {\n",
       "        text-align: right;\n",
       "    }\n",
       "</style>\n",
       "<table border=\"1\" class=\"dataframe\">\n",
       "  <thead>\n",
       "    <tr style=\"text-align: right;\">\n",
       "      <th></th>\n",
       "      <th>text</th>\n",
       "      <th>generated</th>\n",
       "    </tr>\n",
       "  </thead>\n",
       "  <tbody>\n",
       "    <tr>\n",
       "      <th>11130</th>\n",
       "      <td>Play: The Importance in People’s Life Essay\\n\\...</td>\n",
       "      <td>NaN</td>\n",
       "    </tr>\n",
       "    <tr>\n",
       "      <th>187764</th>\n",
       "      <td>-The gym goes dark as the lights shut off, and...</td>\n",
       "      <td>NaN</td>\n",
       "    </tr>\n",
       "    <tr>\n",
       "      <th>67404</th>\n",
       "      <td>The Middle East’s Impediments and Opportunitie...</td>\n",
       "      <td>NaN</td>\n",
       "    </tr>\n",
       "    <tr>\n",
       "      <th>139488</th>\n",
       "      <td>**I'm learning for the IELTS exam. Please, hel...</td>\n",
       "      <td>NaN</td>\n",
       "    </tr>\n",
       "    <tr>\n",
       "      <th>107444</th>\n",
       "      <td>Tough Choices: A Memoir Essay (Book Review)\\n\\...</td>\n",
       "      <td>NaN</td>\n",
       "    </tr>\n",
       "  </tbody>\n",
       "</table>\n",
       "</div>"
      ],
      "text/plain": [
       "                                                     text  generated\n",
       "11130   Play: The Importance in People’s Life Essay\\n\\...        NaN\n",
       "187764  -The gym goes dark as the lights shut off, and...        NaN\n",
       "67404   The Middle East’s Impediments and Opportunitie...        NaN\n",
       "139488  **I'm learning for the IELTS exam. Please, hel...        NaN\n",
       "107444  Tough Choices: A Memoir Essay (Book Review)\\n\\...        NaN"
      ]
     },
     "execution_count": 10,
     "metadata": {},
     "output_type": "execute_result"
    }
   ],
   "source": [
    "train.head()"
   ]
  },
  {
   "cell_type": "code",
   "execution_count": 11,
   "id": "5a20104f",
   "metadata": {
    "execution": {
     "iopub.execute_input": "2024-01-06T07:52:09.562827Z",
     "iopub.status.busy": "2024-01-06T07:52:09.562561Z",
     "iopub.status.idle": "2024-01-06T07:52:09.604871Z",
     "shell.execute_reply": "2024-01-06T07:52:09.604101Z"
    },
    "papermill": {
     "duration": 0.054476,
     "end_time": "2024-01-06T07:52:09.606940",
     "exception": false,
     "start_time": "2024-01-06T07:52:09.552464",
     "status": "completed"
    },
    "tags": []
   },
   "outputs": [],
   "source": [
    "# removing rows of na values , approx 9k rows are there after drop\n",
    "train =train.dropna()\n",
    "\n"
   ]
  },
  {
   "cell_type": "code",
   "execution_count": 12,
   "id": "76b504c3",
   "metadata": {
    "execution": {
     "iopub.execute_input": "2024-01-06T07:52:09.627682Z",
     "iopub.status.busy": "2024-01-06T07:52:09.627391Z",
     "iopub.status.idle": "2024-01-06T07:52:09.635983Z",
     "shell.execute_reply": "2024-01-06T07:52:09.635147Z"
    },
    "papermill": {
     "duration": 0.021021,
     "end_time": "2024-01-06T07:52:09.637981",
     "exception": false,
     "start_time": "2024-01-06T07:52:09.616960",
     "status": "completed"
    },
    "tags": []
   },
   "outputs": [
    {
     "data": {
      "text/plain": [
       "text         0\n",
       "generated    0\n",
       "dtype: int64"
      ]
     },
     "execution_count": 12,
     "metadata": {},
     "output_type": "execute_result"
    }
   ],
   "source": [
    "train.isnull().sum()\n"
   ]
  },
  {
   "cell_type": "code",
   "execution_count": 13,
   "id": "57d05ace",
   "metadata": {
    "execution": {
     "iopub.execute_input": "2024-01-06T07:52:09.658930Z",
     "iopub.status.busy": "2024-01-06T07:52:09.658648Z",
     "iopub.status.idle": "2024-01-06T07:52:09.950591Z",
     "shell.execute_reply": "2024-01-06T07:52:09.949726Z"
    },
    "papermill": {
     "duration": 0.304919,
     "end_time": "2024-01-06T07:52:09.952737",
     "exception": false,
     "start_time": "2024-01-06T07:52:09.647818",
     "status": "completed"
    },
    "tags": []
   },
   "outputs": [
    {
     "data": {
      "text/plain": [
       "<Axes: xlabel='generated'>"
      ]
     },
     "execution_count": 13,
     "metadata": {},
     "output_type": "execute_result"
    },
    {
     "data": {
      "image/png": "[encoded data removed]",
      "text/plain": [
       "<Figure size 640x480 with 1 Axes>"
      ]
     },
     "metadata": {},
     "output_type": "display_data"
    }
   ],
   "source": [
    "train.generated.value_counts().plot(kind='bar')"
   ]
  },
  {
   "cell_type": "code",
   "execution_count": 14,
   "id": "1d2c8e47",
   "metadata": {
    "execution": {
     "iopub.execute_input": "2024-01-06T07:52:09.974565Z",
     "iopub.status.busy": "2024-01-06T07:52:09.974243Z",
     "iopub.status.idle": "2024-01-06T07:52:09.978300Z",
     "shell.execute_reply": "2024-01-06T07:52:09.977341Z"
    },
    "papermill": {
     "duration": 0.016905,
     "end_time": "2024-01-06T07:52:09.980250",
     "exception": false,
     "start_time": "2024-01-06T07:52:09.963345",
     "status": "completed"
    },
    "tags": []
   },
   "outputs": [],
   "source": [
    "import nltk\n"
   ]
  },
  {
   "cell_type": "code",
   "execution_count": 1,
   "id": "12e18323",
   "metadata": {
    "execution": {
     "iopub.execute_input": "2024-01-06T07:52:10.000753Z",
     "iopub.status.busy": "2024-01-06T07:52:10.000498Z",
     "iopub.status.idle": "2024-01-06T07:52:10.006967Z",
     "shell.execute_reply": "2024-01-06T07:52:10.006125Z"
    },
    "papermill": {
     "duration": 0.018537,
     "end_time": "2024-01-06T07:52:10.008864",
     "exception": false,
     "start_time": "2024-01-06T07:52:09.990327",
     "status": "completed"
    },
    "tags": []
   },
   "outputs": [],
   "source": [
    "#average sent length - sentence tokenization and word tokenization using nltk and counting sent len and word len and dividing them\n",
    "#text diversity -lexical richness provide mtld(measure of textual lexical diversity). text with high mtld value are more lexically diverse\n",
    "#punctuation counting as ai generated text make use of less exaclamation and question sigh which make it less formal\n",
    "\n",
    "def avg_sent_length(text):\n",
    "    sent = nltk.sent_tokenize(text)\n",
    "    total_sent = len(sent)\n",
    "    word =nltk.word_tokenize(text)\n",
    "    total_word = len(word)\n",
    "    average_sent_length= total_word/total_sent\n",
    "    return average_sent_length\n",
    "\n",
    "#def text_diversity(text):\n",
    "  #  lex = LexicalRichness(text)\n",
    "   # return lex.mtld()\n",
    "\n",
    "def punc_sign(text):\n",
    "    p =nltk.word_tokenize(text)\n",
    "    e = [word for word in p if word == '!']\n",
    "    t = [word for word in p if word == '?']\n",
    "    s = [word for word in p if word == '&']\n",
    "    count = len(e)+len(t)+len(s)\n",
    "    return count\n",
    "\n",
    "\n",
    "\n",
    "\n",
    "\n"
   ]
  },
  {
   "cell_type": "code",
   "execution_count": 16,
   "id": "104a54df",
   "metadata": {
    "execution": {
     "iopub.execute_input": "2024-01-06T07:52:10.028819Z",
     "iopub.status.busy": "2024-01-06T07:52:10.028577Z",
     "iopub.status.idle": "2024-01-06T07:54:04.456318Z",
     "shell.execute_reply": "2024-01-06T07:54:04.455220Z"
    },
    "papermill": {
     "duration": 114.440465,
     "end_time": "2024-01-06T07:54:04.459002",
     "exception": false,
     "start_time": "2024-01-06T07:52:10.018537",
     "status": "completed"
    },
    "tags": []
   },
   "outputs": [],
   "source": [
    "train['avg_sent_length']=train['text'].apply(avg_sent_length)\n",
    "\n",
    "#train['text_diversity']=train['text'].apply(text_diversity)\n",
    "train['punc_sign']=train['text'].apply(punc_sign)\n"
   ]
  },
  {
   "cell_type": "code",
   "execution_count": 17,
   "id": "9ddddef3",
   "metadata": {
    "execution": {
     "iopub.execute_input": "2024-01-06T07:54:04.482801Z",
     "iopub.status.busy": "2024-01-06T07:54:04.482504Z",
     "iopub.status.idle": "2024-01-06T07:54:29.695647Z",
     "shell.execute_reply": "2024-01-06T07:54:29.694866Z"
    },
    "papermill": {
     "duration": 25.226831,
     "end_time": "2024-01-06T07:54:29.698034",
     "exception": false,
     "start_time": "2024-01-06T07:54:04.471203",
     "status": "completed"
    },
    "tags": []
   },
   "outputs": [],
   "source": [
    "#textstat provide many readibility score such as gunning fog, forecast to measure difficulty in reading text\n",
    "# Gpt0 text detection make use of perplexity and burstiness as human written text are usually not uniform or we can say busty and perplexity deals with the amount of information \n",
    "# in the text.Ai text are built on probabilistic models,so it struggle in text where words and phrases have high degree of variance \n",
    "from textstat.textstat import textstat\n",
    "def readibility_score(text):\n",
    "    score =textstat.flesch_reading_ease(text)\n",
    "    return score     \n",
    "\n",
    "def burstiness(text):\n",
    "    word_counts = Counter(text.split())\n",
    "    std_dev = np.std(list(word_counts.values()))\n",
    "    if std_dev == 0:\n",
    "        burstiness=0\n",
    "    else:    \n",
    "        burstiness = len(word_counts) / np.std(list(word_counts.values()))\n",
    "    return burstiness\n",
    "def perplexity(text):\n",
    "    prob_dist = nltk.FreqDist(text.split())\n",
    "    entropy = -1 * sum([p * np.log(p) for p in prob_dist.values()])\n",
    "    return np.exp(entropy)\n",
    "train['perplexity']=train['text'].apply(perplexity)\n",
    "train['burstiness']=train['text'].apply(burstiness)   \n",
    "train['readibility_score']=train['text'].apply(readibility_score)"
   ]
  },
  {
   "cell_type": "code",
   "execution_count": 18,
   "id": "ad2a64fb",
   "metadata": {
    "execution": {
     "iopub.execute_input": "2024-01-06T07:54:29.720202Z",
     "iopub.status.busy": "2024-01-06T07:54:29.719587Z",
     "iopub.status.idle": "2024-01-06T07:54:35.705476Z",
     "shell.execute_reply": "2024-01-06T07:54:35.704524Z"
    },
    "papermill": {
     "duration": 5.999665,
     "end_time": "2024-01-06T07:54:35.707971",
     "exception": false,
     "start_time": "2024-01-06T07:54:29.708306",
     "status": "completed"
    },
    "tags": []
   },
   "outputs": [],
   "source": [
    "\n",
    "import re\n",
    "\n",
    "def word_density(text):\n",
    "    words = re.findall(r'\\w+', text)\n",
    "    word_series = pd.Series(words)\n",
    "    word_count = word_series.value_counts()\n",
    "    unique_words = len(word_count)\n",
    "    return unique_words\n",
    "train['word_density']=train['text'].apply(word_density)"
   ]
  },
  {
   "cell_type": "code",
   "execution_count": 19,
   "id": "cfae9cbd",
   "metadata": {
    "execution": {
     "iopub.execute_input": "2024-01-06T07:54:35.729951Z",
     "iopub.status.busy": "2024-01-06T07:54:35.729637Z",
     "iopub.status.idle": "2024-01-06T07:54:50.922496Z",
     "shell.execute_reply": "2024-01-06T07:54:50.921259Z"
    },
    "papermill": {
     "duration": 15.206852,
     "end_time": "2024-01-06T07:54:50.925773",
     "exception": false,
     "start_time": "2024-01-06T07:54:35.718921",
     "status": "completed"
    },
    "tags": []
   },
   "outputs": [],
   "source": [
    "#functional word include the articles ,pronoun , auxillaiary verbs etc.\n",
    "from sklearn.feature_extraction.text import CountVectorizer\n",
    "def func_word_count(text):\n",
    "    vectorizer = CountVectorizer(stop_words='english')\n",
    "    X = vectorizer.fit_transform([text])\n",
    "    functional_word_count = X.sum()\n",
    "    return functional_word_count\n",
    "train['func_word_count']=train['text'].apply(func_word_count)"
   ]
  },
  {
   "cell_type": "code",
   "execution_count": 20,
   "id": "8eb9bbba",
   "metadata": {
    "execution": {
     "iopub.execute_input": "2024-01-06T07:54:50.953359Z",
     "iopub.status.busy": "2024-01-06T07:54:50.952988Z",
     "iopub.status.idle": "2024-01-06T07:55:46.751375Z",
     "shell.execute_reply": "2024-01-06T07:55:46.750573Z"
    },
    "papermill": {
     "duration": 55.811883,
     "end_time": "2024-01-06T07:55:46.753860",
     "exception": false,
     "start_time": "2024-01-06T07:54:50.941977",
     "status": "completed"
    },
    "tags": []
   },
   "outputs": [],
   "source": [
    "# frequency distibution is used to record the frequency of each word type in a doc.I have used max frequency of word .\n",
    "from nltk.tokenize import word_tokenize\n",
    "from nltk.probability import FreqDist\n",
    "\n",
    "def freq_dist(text):\n",
    "    tokens = word_tokenize(text)\n",
    "    fdist = FreqDist(tokens)\n",
    "    ar= [frequency[1] for frequency in fdist.items()]\n",
    "    max_dist= max(ar)\n",
    "    return max_dist\n",
    "train['freq_dist']=train['text'].apply(freq_dist)"
   ]
  },
  {
   "cell_type": "code",
   "execution_count": 21,
   "id": "0c4dd17e",
   "metadata": {
    "execution": {
     "iopub.execute_input": "2024-01-06T07:55:46.774976Z",
     "iopub.status.busy": "2024-01-06T07:55:46.774696Z",
     "iopub.status.idle": "2024-01-06T07:55:46.784382Z",
     "shell.execute_reply": "2024-01-06T07:55:46.783523Z"
    },
    "papermill": {
     "duration": 0.022301,
     "end_time": "2024-01-06T07:55:46.786388",
     "exception": false,
     "start_time": "2024-01-06T07:55:46.764087",
     "status": "completed"
    },
    "tags": []
   },
   "outputs": [
    {
     "data": {
      "text/html": [
       "<div>\n",
       "<style scoped>\n",
       "    .dataframe tbody tr th:only-of-type {\n",
       "        vertical-align: middle;\n",
       "    }\n",
       "\n",
       "    .dataframe tbody tr th {\n",
       "        vertical-align: top;\n",
       "    }\n",
       "\n",
       "    .dataframe thead th {\n",
       "        text-align: right;\n",
       "    }\n",
       "</style>\n",
       "<table border=\"1\" class=\"dataframe\">\n",
       "  <thead>\n",
       "    <tr style=\"text-align: right;\">\n",
       "      <th></th>\n",
       "      <th>id</th>\n",
       "      <th>prompt_id</th>\n",
       "      <th>text</th>\n",
       "    </tr>\n",
       "  </thead>\n",
       "  <tbody>\n",
       "    <tr>\n",
       "      <th>0</th>\n",
       "      <td>0000aaaa</td>\n",
       "      <td>2</td>\n",
       "      <td>Aaa bbb ccc.</td>\n",
       "    </tr>\n",
       "    <tr>\n",
       "      <th>1</th>\n",
       "      <td>1111bbbb</td>\n",
       "      <td>3</td>\n",
       "      <td>Bbb ccc ddd.</td>\n",
       "    </tr>\n",
       "    <tr>\n",
       "      <th>2</th>\n",
       "      <td>2222cccc</td>\n",
       "      <td>4</td>\n",
       "      <td>CCC ddd eee.</td>\n",
       "    </tr>\n",
       "  </tbody>\n",
       "</table>\n",
       "</div>"
      ],
      "text/plain": [
       "         id  prompt_id          text\n",
       "0  0000aaaa          2  Aaa bbb ccc.\n",
       "1  1111bbbb          3  Bbb ccc ddd.\n",
       "2  2222cccc          4  CCC ddd eee."
      ]
     },
     "execution_count": 21,
     "metadata": {},
     "output_type": "execute_result"
    }
   ],
   "source": [
    "test_data"
   ]
  },
  {
   "cell_type": "code",
   "execution_count": 22,
   "id": "54bbb571",
   "metadata": {
    "execution": {
     "iopub.execute_input": "2024-01-06T07:55:46.808310Z",
     "iopub.status.busy": "2024-01-06T07:55:46.808033Z",
     "iopub.status.idle": "2024-01-06T07:55:46.816856Z",
     "shell.execute_reply": "2024-01-06T07:55:46.815865Z"
    },
    "papermill": {
     "duration": 0.022116,
     "end_time": "2024-01-06T07:55:46.819021",
     "exception": false,
     "start_time": "2024-01-06T07:55:46.796905",
     "status": "completed"
    },
    "tags": []
   },
   "outputs": [],
   "source": [
    "#splitting the data with 0.3 test size\n",
    "from sklearn.model_selection import train_test_split\n",
    "from sklearn.preprocessing import MinMaxScaler\n",
    "training_data ,testing_data = train_test_split(train ,test_size = 0.3,random_state = 78)"
   ]
  },
  {
   "cell_type": "code",
   "execution_count": 23,
   "id": "1bdb4437",
   "metadata": {
    "execution": {
     "iopub.execute_input": "2024-01-06T07:55:46.842002Z",
     "iopub.status.busy": "2024-01-06T07:55:46.840936Z",
     "iopub.status.idle": "2024-01-06T07:55:46.850305Z",
     "shell.execute_reply": "2024-01-06T07:55:46.849477Z"
    },
    "papermill": {
     "duration": 0.023241,
     "end_time": "2024-01-06T07:55:46.852515",
     "exception": false,
     "start_time": "2024-01-06T07:55:46.829274",
     "status": "completed"
    },
    "tags": []
   },
   "outputs": [],
   "source": [
    "#apart from these features ,some important features like passive voice count, grammer error , pos count , semantic analysis can be used but it takes more computation\n",
    "# cost. Since ai generated text are more formal, without grammer error and sometimes without meaning or feeling , so these features are useful.\n",
    "y_train = training_data['generated'].values\n",
    "y_test = testing_data['generated'].values\n",
    "x_train = training_data[['avg_sent_length','punc_sign','readibility_score','burstiness','perplexity','word_density','func_word_count','freq_dist']]\n",
    "x_test =testing_data[['avg_sent_length','punc_sign','readibility_score','burstiness','perplexity','word_density','func_word_count','freq_dist']]\n"
   ]
  },
  {
   "cell_type": "code",
   "execution_count": 24,
   "id": "d078faf7",
   "metadata": {
    "execution": {
     "iopub.execute_input": "2024-01-06T07:55:46.874760Z",
     "iopub.status.busy": "2024-01-06T07:55:46.874489Z",
     "iopub.status.idle": "2024-01-06T07:55:48.009762Z",
     "shell.execute_reply": "2024-01-06T07:55:48.008570Z"
    },
    "papermill": {
     "duration": 1.148207,
     "end_time": "2024-01-06T07:55:48.012037",
     "exception": false,
     "start_time": "2024-01-06T07:55:46.863830",
     "status": "completed"
    },
    "tags": []
   },
   "outputs": [
    {
     "name": "stdout",
     "output_type": "stream",
     "text": [
      "0.9541045345185517\n"
     ]
    }
   ],
   "source": [
    "#lexical richess feature when included then the accuracy is above 96.and roc score 95 approx\n",
    "# random forest clasifier make much good prediction than other\n",
    "\n",
    "from sklearn.ensemble import RandomForestClassifier,AdaBoostClassifier\n",
    "from sklearn.naive_bayes import MultinomialNB\n",
    "from sklearn.pipeline import Pipeline\n",
    "from sklearn.gaussian_process import GaussianProcessClassifier\n",
    "from sklearn.svm import SVC\n",
    "from sklearn.naive_bayes import GaussianNB\n",
    "from sklearn.tree import DecisionTreeClassifier\n",
    "from sklearn.metrics import roc_auc_score,roc_curve\n",
    "rf = RandomForestClassifier()\n",
    "rf.fit(x_train,y_train)\n",
    "y_pred =rf.predict(x_test)\n",
    "roc_score = roc_auc_score(y_test,y_pred)\n",
    "print(roc_score)"
   ]
  },
  {
   "cell_type": "code",
   "execution_count": 26,
   "id": "a8a93edd",
   "metadata": {
    "execution": {
     "iopub.execute_input": "2024-01-06T07:55:49.153029Z",
     "iopub.status.busy": "2024-01-06T07:55:49.152695Z",
     "iopub.status.idle": "2024-01-06T07:55:49.157302Z",
     "shell.execute_reply": "2024-01-06T07:55:49.156265Z"
    },
    "papermill": {
     "duration": 0.017403,
     "end_time": "2024-01-06T07:55:49.159152",
     "exception": false,
     "start_time": "2024-01-06T07:55:49.141749",
     "status": "completed"
    },
    "tags": []
   },
   "outputs": [],
   "source": [
    "test_data['avg_sent_length']=test_data['text'].apply(avg_sent_length)\n",
    "test_data['func_word_count']=test_data['text'].apply(func_word_count)\n",
    "test_data['punc_sign']=test_data['text'].apply(punc_sign)\n",
    "test_data['perplexity']=test_data['text'].apply(perplexity)\n",
    "test_data['burstiness']=test_data['text'].apply(burstiness)   \n",
    "test_data['readibility_score']=test_data['text'].apply(readibility_score)\n",
    "test_data['word_density']=test_data['text'].apply(word_density)\n",
    "test_data['freq_dist']=test_data['text'].apply(freq_dist)\n",
    "x = test_data[['avg_sent_length','punc_sign','readibility_score','burstiness','perplexity','word_density','func_word_count','freq_dist']]\n",
    "predict =rf.predict(x)\n",
    "    "
   ]
  },
  {
   "cell_type": "code",
   "execution_count": null,
   "id": "0d02260e",
   "metadata": {
    "papermill": {
     "duration": 0.010399,
     "end_time": "2024-01-06T07:55:49.223465",
     "exception": false,
     "start_time": "2024-01-06T07:55:49.213066",
     "status": "completed"
    },
    "tags": []
   },
   "outputs": [],
   "source": []
  }
 ],
 "metadata": {
  "kaggle": {
   "accelerator": "nvidiaTeslaT4",
   "dataSources": [
    {
     "databundleVersionId": 6888007,
     "sourceId": 61542,
     "sourceType": "competition"
    },
    {
     "datasetId": 3960967,
     "sourceId": 6901341,
     "sourceType": "datasetVersion"
    },
    {
     "datasetId": 4267086,
     "sourceId": 7348384,
     "sourceType": "datasetVersion"
    }
   ],
   "dockerImageVersionId": 30626,
   "isGpuEnabled": true,
   "isInternetEnabled": false,
   "language": "python",
   "sourceType": "notebook"
  },
  "kernelspec": {
   "display_name": "Python 3",
   "language": "python",
   "name": "python3"
  },
  "language_info": {
   "codemirror_mode": {
    "name": "ipython",
    "version": 3
   },
   "file_extension": ".py",
   "mimetype": "text/x-python",
   "name": "python",
   "nbconvert_exporter": "python",
   "pygments_lexer": "ipython3",
   "version": "3.11.5"
  },
  "papermill": {
   "default_parameters": {},
   "duration": 294.603564,
   "end_time": "2024-01-06T07:55:51.977503",
   "environment_variables": {},
   "exception": null,
   "input_path": "__notebook__.ipynb",
   "output_path": "__notebook__.ipynb",
   "parameters": {},
   "start_time": "2024-01-06T07:50:57.373939",
   "version": "2.4.0"
  }
 },
 "nbformat": 4,
 "nbformat_minor": 5
}
